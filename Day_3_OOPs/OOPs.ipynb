{
 "cells": [
  {
   "cell_type": "code",
   "execution_count": 13,
   "id": "61396b1d-1cfb-4d88-9d6a-a201778d3e97",
   "metadata": {},
   "outputs": [
    {
     "name": "stdout",
     "output_type": "stream",
     "text": [
      "Fortuner 2011\n"
     ]
    }
   ],
   "source": [
    "class Car:\n",
    "    def __init__(self,modelname,year):\n",
    "        self.modelname=modelname\n",
    "        self.year=year\n",
    "    def display(self):\n",
    "        print(self.modelname,self.year)\n",
    "\n",
    "c1 = Car(\"Fortuner\",2011)\n",
    "c1.display()"
   ]
  },
  {
   "cell_type": "code",
   "execution_count": 15,
   "id": "87b95dd5-c7f5-4e15-bcdb-2164871c6b49",
   "metadata": {},
   "outputs": [
    {
     "name": "stdout",
     "output_type": "stream",
     "text": [
      "36 Viresh\n",
      "CSE WIT\n"
     ]
    }
   ],
   "source": [
    "class Student:\n",
    "    def __init__(self,roll,name):\n",
    "        self.roll=roll\n",
    "        self.name=name\n",
    "    def display(self):\n",
    "        print(self.roll,self.name)\n",
    "\n",
    "class College:\n",
    "    def __init__(self,dept,clgName):\n",
    "        self.dept=dept\n",
    "        self.clgName=clgName\n",
    "    def display(self):\n",
    "        print(self.dept,self.clgName)\n",
    "\n",
    "s1 = Student(36,\"Viresh\")\n",
    "s1.display()\n",
    "c1 = College(\"CSE\",\"WIT\")\n",
    "c1.display()"
   ]
  },
  {
   "cell_type": "code",
   "execution_count": 75,
   "id": "d170e38e-dba3-4423-9d2e-1fc18f62a7f5",
   "metadata": {},
   "outputs": [
    {
     "name": "stdout",
     "output_type": "stream",
     "text": [
      "[['Ikigai', 'English', 'Marathi']]\n"
     ]
    }
   ],
   "source": [
    "list1=[]\n",
    "class Library:\n",
    "    def add(self,bookName):\n",
    "        list1.append(bookName)\n",
    "        \n",
    "    def getBook(self,bookName):\n",
    "        for i in list1:\n",
    "            if i in list1:\n",
    "                return i;\n",
    "    def getAllBooks(self):\n",
    "        for i in list1:\n",
    "            print(list1)\n",
    "    def deleteBook(self,bookName):\n",
    "        list1.pop(bookName)\n",
    "\n",
    "l1 = Library()\n",
    "l1.add([\"Ikigai\",\"English\",\"Marathi\"])\n",
    "l1.getAllBooks()"
   ]
  },
  {
   "cell_type": "code",
   "execution_count": 77,
   "id": "ad5438e5-3025-43d5-bf9f-1c688dfdc4ca",
   "metadata": {},
   "outputs": [
    {
     "name": "stdout",
     "output_type": "stream",
     "text": [
      "Rodger is a mammal\n",
      "Tommy is also a mammal\n",
      "My name is Rodger\n",
      "My name is Tommy\n"
     ]
    }
   ],
   "source": [
    "class Dog:\n",
    "\n",
    "\tattr1 = \"mammal\"\n",
    "\n",
    "\tdef __init__(self, name):\n",
    "\t\tself.name = name\n",
    "\n",
    "Rodger = Dog(\"Rodger\")\n",
    "Tommy = Dog(\"Tommy\")\n",
    "\n",
    "print(\"Rodger is a {}\".format(Rodger.__class__.attr1))\n",
    "print(\"Tommy is also a {}\".format(Tommy.__class__.attr1))\n",
    "\n",
    "print(\"My name is {}\".format(Rodger.name))\n",
    "print(\"My name is {}\".format(Tommy.name))"
   ]
  },
  {
   "cell_type": "code",
   "execution_count": 95,
   "id": "26460040-3ecc-4a44-a571-ea6d04e325dd",
   "metadata": {},
   "outputs": [
    {
     "data": {
      "text/plain": [
       "[2, 4, 6]"
      ]
     },
     "execution_count": 95,
     "metadata": {},
     "output_type": "execute_result"
    }
   ],
   "source": [
    "# return all even numbers from the list\n",
    "def find_even_list(list1):\n",
    "    even_list = []\n",
    "    for number in list1:\n",
    "        if number % 2 == 0:\n",
    "            even_list.append(number)\n",
    "        else:\n",
    "            pass\n",
    "    return even_list\n",
    "find_even_list([1,2,3,4,5,6])"
   ]
  },
  {
   "cell_type": "code",
   "execution_count": 117,
   "id": "be5e6812-ae26-4598-a52d-6ddb0174e457",
   "metadata": {},
   "outputs": [
    {
     "name": "stdout",
     "output_type": "stream",
     "text": [
      "Viresh\n",
      "B-36\n",
      "My name is: Viresh\n",
      "ID Number: B-36\n",
      "Post: Student\n"
     ]
    }
   ],
   "source": [
    "# inheritance: acquiring the properties of parent class\n",
    "class Person(object):\n",
    "    def __init__(self,name,idnumber):\n",
    "        self.name=name\n",
    "        self.idnumber=idnumber\n",
    "\n",
    "    def display(self):\n",
    "        print(self.name)\n",
    "        print(self.idnumber)\n",
    "\n",
    "    def details(self):\n",
    "        print(\"My name is: {}\" .format(self.name))\n",
    "        print(\"My ID Number is: {}\" .format(self.idnumber))\n",
    "\n",
    "class Employee(Person):\n",
    "    def __init__(self,name,idnumber,salary,post):\n",
    "        self.salary=salary\n",
    "        self.post=post\n",
    "        Person.__init__(self,name,idnumber)\n",
    "\n",
    "    def details(self):\n",
    "        print(\"My name is: {}\" .format(self.name))\n",
    "        print(\"ID Number: {}\" .format(self.idnumber))\n",
    "        print(\"Post: {}\" .format(self.post))\n",
    "    \n",
    "e1 = Employee(\"Viresh\",\"B-36\",300000,\"Student\")\n",
    "e1.display()\n",
    "e1.details()"
   ]
  },
  {
   "cell_type": "code",
   "execution_count": 187,
   "id": "58e9907f-b884-40e2-911b-0562ae8aeea4",
   "metadata": {},
   "outputs": [
    {
     "name": "stdout",
     "output_type": "stream",
     "text": [
      "My name is: abc xyz lmn zzz\n"
     ]
    }
   ],
   "source": [
    "class Dad():\n",
    "    def __init__(self, name, surname):\n",
    "        self.name = name\n",
    "        self.surname = surname\n",
    "\n",
    "    def display(self):\n",
    "        print(self.name)\n",
    "        print(self.surname)\n",
    "\n",
    "    def details(self):\n",
    "        print(\"My name is: {} {}\".format(self.name, self.surname))\n",
    "\n",
    "class Mom():\n",
    "    def __init__(self, name, middleName, surname):\n",
    "        self.name = name\n",
    "        self.middleName = middleName\n",
    "        self.surname = surname\n",
    "\n",
    "    def details(self):\n",
    "        print(\"My name is: {} {} {}\".format(self.name, self.middleName, self.surname))\n",
    "\n",
    "class Child(Dad, Mom):\n",
    "    def __init__(self, myName, motherName, fatherName, surname):\n",
    "        self.myName = myName\n",
    "        self.motherName = motherName\n",
    "        self.fatherName = fatherName\n",
    "        self.surname = surname\n",
    "        Dad.__init__(self, fatherName, surname)\n",
    "        Mom.__init__(self, motherName, fatherName, surname)\n",
    "\n",
    "    def details(self):\n",
    "        print(\"My name is: {} {} {} {}\".format(self.myName, self.motherName, self.fatherName, self.surname))\n",
    "\n",
    "c1 = Child(\"abc\", \"xyz\", \"lmn\", \"zzz\")\n",
    "c1.details()\n"
   ]
  },
  {
   "cell_type": "code",
   "execution_count": 203,
   "id": "022777ee-db5c-4a42-b969-94c9304bf154",
   "metadata": {},
   "outputs": [
    {
     "name": "stdout",
     "output_type": "stream",
     "text": [
      "Yes, it is a palindrome\n",
      "No, it is not an Armstrong number\n",
      "No, it is not a palindrome\n",
      "Yes, it is an Armstrong number\n"
     ]
    }
   ],
   "source": [
    "class Number():\n",
    "\n",
    "    def __init__(self, num):\n",
    "        self.num = num\n",
    "\n",
    "    def palindrome(self):\n",
    "        self.temp = str(self.num)\n",
    "        self.reverse = self.temp[::-1]\n",
    "        if self.temp == self.reverse:\n",
    "            print(\"Yes, it is a palindrome\")\n",
    "        else:\n",
    "            print(\"No, it is not a palindrome\")\n",
    "        \n",
    "    def armstrong(self):\n",
    "        self.temp = self.num\n",
    "        self.digits = len(str(self.num))\n",
    "        sum_of_powers = sum([int(digit) ** self.digits for digit in str(self.num)])\n",
    "        if self.temp == sum_of_powers:\n",
    "            print(\"Yes, it is an Armstrong number\")\n",
    "        else:\n",
    "            print(\"No, it is not an Armstrong number\")\n",
    "\n",
    "n1 = Number(121)\n",
    "n1.palindrome()\n",
    "n1.armstrong()\n",
    "\n",
    "n2 = Number(153)\n",
    "n2.palindrome()\n",
    "n2.armstrong()"
   ]
  },
  {
   "cell_type": "code",
   "execution_count": 205,
   "id": "0e1e6cd0-5e8c-4a61-91f9-d8e52f7f568d",
   "metadata": {},
   "outputs": [
    {
     "name": "stdout",
     "output_type": "stream",
     "text": [
      "\n",
      "Object 1:\n",
      "Original list: [2, 4, 1, 3, 5]\n",
      "Reversed list: [5, 3, 1, 4, 2]\n",
      "Ascending order: [1, 2, 3, 4, 5]\n",
      "Descending order: [5, 4, 3, 2, 1]\n",
      "\n",
      "Object 2:\n",
      "Original list: [5, 3, 7, 2, 5]\n",
      "Reversed list: [5, 2, 7, 3, 5]\n",
      "Ascending order: [2, 3, 5, 5, 7]\n",
      "Descending order: [7, 5, 5, 3, 2]\n"
     ]
    }
   ],
   "source": [
    "class Parent():\n",
    "    def __init__(self, list1):\n",
    "        self.list1 = list1\n",
    "\n",
    "    def reverse(self):\n",
    "        return self.list1[::-1]\n",
    "        \n",
    "    def ascending(self):\n",
    "        self.list1.sort()\n",
    "        return self.list1\n",
    "        \n",
    "    def descending(self):\n",
    "        return sorted(self.list1, reverse=True)\n",
    "\n",
    "class Sort1(Parent):\n",
    "    def __init__(self, list1):\n",
    "        Parent.__init__(self, list1)\n",
    "\n",
    "class Sort2(Parent):\n",
    "    def __init__(self, list1):\n",
    "        Parent.__init__(self, list1)\n",
    "\n",
    "s1 = Sort1([2, 4, 1, 3, 5])\n",
    "s2 = Sort2([5, 3, 7, 2, 5])\n",
    "\n",
    "print(\"\\nObject 1:\")\n",
    "print(\"Original list:\", s1.list1)\n",
    "print(\"Reversed list:\", s1.reverse())\n",
    "print(\"Ascending order:\", s1.ascending())\n",
    "print(\"Descending order:\", s1.descending())\n",
    "\n",
    "print(\"\\nObject 2:\")\n",
    "print(\"Original list:\", s2.list1)\n",
    "print(\"Reversed list:\", s2.reverse())\n",
    "print(\"Ascending order:\", s2.ascending())\n",
    "print(\"Descending order:\", s2.descending())"
   ]
  },
  {
   "cell_type": "code",
   "execution_count": null,
   "id": "1747e89d-2a76-48ef-b58f-59c28f76da21",
   "metadata": {},
   "outputs": [],
   "source": []
  }
 ],
 "metadata": {
  "kernelspec": {
   "display_name": "Python [conda env:base] *",
   "language": "python",
   "name": "conda-base-py"
  },
  "language_info": {
   "codemirror_mode": {
    "name": "ipython",
    "version": 3
   },
   "file_extension": ".py",
   "mimetype": "text/x-python",
   "name": "python",
   "nbconvert_exporter": "python",
   "pygments_lexer": "ipython3",
   "version": "3.12.7"
  }
 },
 "nbformat": 4,
 "nbformat_minor": 5
}
