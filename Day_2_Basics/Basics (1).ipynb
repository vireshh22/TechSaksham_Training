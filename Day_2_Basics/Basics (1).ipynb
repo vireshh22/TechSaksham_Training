{
 "cells": [
  {
   "cell_type": "code",
   "execution_count": 4,
   "id": "febe96c6-8907-408e-ab21-50af924e5c87",
   "metadata": {},
   "outputs": [
    {
     "data": {
      "text/plain": [
       "'hello'"
      ]
     },
     "execution_count": 4,
     "metadata": {},
     "output_type": "execute_result"
    }
   ],
   "source": [
    "\"hello\""
   ]
  },
  {
   "cell_type": "code",
   "execution_count": 6,
   "id": "3661ba29-6699-4b54-a5b6-340aa847d1ae",
   "metadata": {},
   "outputs": [
    {
     "name": "stdout",
     "output_type": "stream",
     "text": [
      "6\n"
     ]
    }
   ],
   "source": [
    "print(len(\"Viresh\"))"
   ]
  },
  {
   "cell_type": "code",
   "execution_count": 11,
   "id": "083b3d92-3cd9-4cd7-8a67-4c57bcf3ec1b",
   "metadata": {},
   "outputs": [
    {
     "name": "stdout",
     "output_type": "stream",
     "text": [
      "17\n"
     ]
    }
   ],
   "source": [
    "string=\"Hi this is viresh\"\n",
    "print(len(string))"
   ]
  },
  {
   "cell_type": "code",
   "execution_count": 27,
   "id": "7155d5d6-779c-4137-a062-7b53fbaf672e",
   "metadata": {},
   "outputs": [
    {
     "name": "stdout",
     "output_type": "stream",
     "text": [
      "v\n"
     ]
    }
   ],
   "source": [
    "print(string[11])"
   ]
  },
  {
   "cell_type": "code",
   "execution_count": 29,
   "id": "77915921-af4a-4d66-b84f-ef4dbaf7595e",
   "metadata": {},
   "outputs": [
    {
     "name": "stdout",
     "output_type": "stream",
     "text": [
      "Hi this is viresh\n"
     ]
    }
   ],
   "source": [
    "print(string[:18])"
   ]
  },
  {
   "cell_type": "code",
   "execution_count": 31,
   "id": "34b52422-4fad-480a-a133-d0142d3708b8",
   "metadata": {},
   "outputs": [
    {
     "data": {
      "text/plain": [
       "' this is viresh'"
      ]
     },
     "execution_count": 31,
     "metadata": {},
     "output_type": "execute_result"
    }
   ],
   "source": [
    "string[2:]"
   ]
  },
  {
   "cell_type": "code",
   "execution_count": 33,
   "id": "b6d5219d-c187-475e-b8bc-3967d7cdaaf9",
   "metadata": {},
   "outputs": [
    {
     "data": {
      "text/plain": [
       "'Hi this is viresh, from TYB'"
      ]
     },
     "execution_count": 33,
     "metadata": {},
     "output_type": "execute_result"
    }
   ],
   "source": [
    "string + \", from TYB\""
   ]
  },
  {
   "cell_type": "code",
   "execution_count": 35,
   "id": "0a5f8edb-1ce4-4d56-8b72-b28e3cf777da",
   "metadata": {},
   "outputs": [
    {
     "data": {
      "text/plain": [
       "'hi this is viresh'"
      ]
     },
     "execution_count": 35,
     "metadata": {},
     "output_type": "execute_result"
    }
   ],
   "source": [
    "string.lower()"
   ]
  },
  {
   "cell_type": "code",
   "execution_count": 37,
   "id": "1dc85028-659f-4365-9da9-e3996d571fad",
   "metadata": {},
   "outputs": [
    {
     "data": {
      "text/plain": [
       "'HI THIS IS VIRESH'"
      ]
     },
     "execution_count": 37,
     "metadata": {},
     "output_type": "execute_result"
    }
   ],
   "source": [
    "string.upper()"
   ]
  },
  {
   "cell_type": "code",
   "execution_count": 39,
   "id": "168307a3-083c-4dd8-a07f-ea27d5432216",
   "metadata": {},
   "outputs": [
    {
     "data": {
      "text/plain": [
       "['Hi', 'this', 'is', 'viresh']"
      ]
     },
     "execution_count": 39,
     "metadata": {},
     "output_type": "execute_result"
    }
   ],
   "source": [
    "string.split(\" \")"
   ]
  },
  {
   "cell_type": "code",
   "execution_count": 41,
   "id": "6208d5fa-665e-43d6-bd1c-0d057211a2ec",
   "metadata": {},
   "outputs": [
    {
     "name": "stdout",
     "output_type": "stream",
     "text": [
      "Hello Viresh\n"
     ]
    }
   ],
   "source": [
    "print(\"Hello {}\" .format('Viresh'))"
   ]
  },
  {
   "cell_type": "code",
   "execution_count": 44,
   "id": "ef7008db-0e2e-4bad-b673-429b87532940",
   "metadata": {},
   "outputs": [
    {
     "name": "stdout",
     "output_type": "stream",
     "text": [
      "Hello 1\n"
     ]
    }
   ],
   "source": [
    "print(\"Hello {a}\" .format(a=1))"
   ]
  },
  {
   "cell_type": "code",
   "execution_count": 46,
   "id": "3edd47c6-d921-4788-ade4-96e034857029",
   "metadata": {},
   "outputs": [
    {
     "data": {
      "text/plain": [
       "[1, 2, 3, 4, 5]"
      ]
     },
     "execution_count": 46,
     "metadata": {},
     "output_type": "execute_result"
    }
   ],
   "source": [
    "myList = [1,2,3,4,5]\n",
    "myList"
   ]
  },
  {
   "cell_type": "code",
   "execution_count": 59,
   "id": "e1d98048-68e7-43d5-b44f-5c4916dfa261",
   "metadata": {},
   "outputs": [
    {
     "data": {
      "text/plain": [
       "['a', 1, 'b', 2, 'c', 3]"
      ]
     },
     "execution_count": 59,
     "metadata": {},
     "output_type": "execute_result"
    }
   ],
   "source": [
    "list2 = [\"a\",1,\"b\",2,\"c\",3]\n",
    "list2"
   ]
  },
  {
   "cell_type": "code",
   "execution_count": 72,
   "id": "7369b213-4cca-4cb1-9e2c-5c01690b579a",
   "metadata": {},
   "outputs": [
    {
     "data": {
      "text/plain": [
       "6"
      ]
     },
     "execution_count": 72,
     "metadata": {},
     "output_type": "execute_result"
    }
   ],
   "source": [
    "len(list2)"
   ]
  },
  {
   "cell_type": "code",
   "execution_count": 82,
   "id": "02972b75-148f-4309-b730-bfde88b93726",
   "metadata": {},
   "outputs": [
    {
     "name": "stdout",
     "output_type": "stream",
     "text": [
      "abc\n"
     ]
    }
   ],
   "source": [
    "hello = print\n",
    "hello(\"abc\")"
   ]
  },
  {
   "cell_type": "code",
   "execution_count": 84,
   "id": "bb9a26b7-3ff0-4570-9ca4-de1e852e6370",
   "metadata": {},
   "outputs": [
    {
     "data": {
      "text/plain": [
       "'b'"
      ]
     },
     "execution_count": 84,
     "metadata": {},
     "output_type": "execute_result"
    }
   ],
   "source": [
    "list2[2]"
   ]
  },
  {
   "cell_type": "code",
   "execution_count": 86,
   "id": "7a1a2a9b-9642-45b2-bb13-2ccb6d4dd13b",
   "metadata": {},
   "outputs": [
    {
     "data": {
      "text/plain": [
       "[1, 'b', 2, 'c', 3]"
      ]
     },
     "execution_count": 86,
     "metadata": {},
     "output_type": "execute_result"
    }
   ],
   "source": [
    "list2[1:]"
   ]
  },
  {
   "cell_type": "code",
   "execution_count": 90,
   "id": "ca49ba59-5576-46d6-81cd-3054392d168a",
   "metadata": {},
   "outputs": [
    {
     "data": {
      "text/plain": [
       "['a', 1, 'b']"
      ]
     },
     "execution_count": 90,
     "metadata": {},
     "output_type": "execute_result"
    }
   ],
   "source": [
    "list2[:3]"
   ]
  },
  {
   "cell_type": "code",
   "execution_count": 94,
   "id": "e5e22dcb-6d32-4a1f-8917-5556a9050771",
   "metadata": {},
   "outputs": [
    {
     "data": {
      "text/plain": [
       "['c', 3]"
      ]
     },
     "execution_count": 94,
     "metadata": {},
     "output_type": "execute_result"
    }
   ],
   "source": [
    "list2[-2:]"
   ]
  },
  {
   "cell_type": "code",
   "execution_count": 96,
   "id": "c22855f5-efd8-4648-9da8-76463f12910a",
   "metadata": {},
   "outputs": [
    {
     "data": {
      "text/plain": [
       "['a', 1, 'b', 2]"
      ]
     },
     "execution_count": 96,
     "metadata": {},
     "output_type": "execute_result"
    }
   ],
   "source": [
    "list2[:-2]"
   ]
  },
  {
   "cell_type": "code",
   "execution_count": 112,
   "id": "d7b676db-cc95-4cda-a7de-8be78a714e80",
   "metadata": {},
   "outputs": [
    {
     "data": {
      "text/plain": [
       "['a', 1, 'b', 2, 'c', 3, 'CSE', 'CSE', 'append', 'CSE', 'CSE']"
      ]
     },
     "execution_count": 112,
     "metadata": {},
     "output_type": "execute_result"
    }
   ],
   "source": [
    "list2=list2+[\"CSE\"]\n",
    "list2"
   ]
  },
  {
   "cell_type": "code",
   "execution_count": 106,
   "id": "c549ff09-6ce2-4990-9182-3b5a6d2d4772",
   "metadata": {},
   "outputs": [
    {
     "data": {
      "text/plain": [
       "['a', 1, 'b', 2, 'c', 3, 'CSE', 'CSE', 'append', 'new element']"
      ]
     },
     "execution_count": 106,
     "metadata": {},
     "output_type": "execute_result"
    }
   ],
   "source": [
    "list2.append(\"new element\")\n",
    "list2"
   ]
  },
  {
   "cell_type": "code",
   "execution_count": 108,
   "id": "41b30a15-307b-43ca-99d4-256a07a68998",
   "metadata": {},
   "outputs": [
    {
     "data": {
      "text/plain": [
       "'new element'"
      ]
     },
     "execution_count": 108,
     "metadata": {},
     "output_type": "execute_result"
    }
   ],
   "source": [
    "list2.pop()"
   ]
  },
  {
   "cell_type": "code",
   "execution_count": 114,
   "id": "11da2032-3ed7-47b8-a158-22cf28604776",
   "metadata": {},
   "outputs": [
    {
     "data": {
      "text/plain": [
       "'b'"
      ]
     },
     "execution_count": 114,
     "metadata": {},
     "output_type": "execute_result"
    }
   ],
   "source": [
    "list2.pop(2)"
   ]
  },
  {
   "cell_type": "code",
   "execution_count": 129,
   "id": "75f4578b-99da-4e04-acbb-b01790f954f9",
   "metadata": {},
   "outputs": [
    {
     "data": {
      "text/plain": [
       "['a', 1, 2, 'c', 3, 'CSE']"
      ]
     },
     "execution_count": 129,
     "metadata": {},
     "output_type": "execute_result"
    }
   ],
   "source": [
    "list2"
   ]
  },
  {
   "cell_type": "code",
   "execution_count": 127,
   "id": "ff096049-af50-4172-a01b-6b1eb9e67137",
   "metadata": {},
   "outputs": [
    {
     "data": {
      "text/plain": [
       "'CSE'"
      ]
     },
     "execution_count": 127,
     "metadata": {},
     "output_type": "execute_result"
    }
   ],
   "source": [
    "list2.pop()"
   ]
  },
  {
   "cell_type": "code",
   "execution_count": 133,
   "id": "ec87d26e-8888-4ee7-b4ff-051e6aac96fa",
   "metadata": {},
   "outputs": [
    {
     "data": {
      "text/plain": [
       "{'key1': 'value1', 'key2': 'value2'}"
      ]
     },
     "execution_count": 133,
     "metadata": {},
     "output_type": "execute_result"
    }
   ],
   "source": [
    "dict = {'key1':'value1','key2':'value2'}\n",
    "dict"
   ]
  },
  {
   "cell_type": "code",
   "execution_count": 141,
   "id": "9b4514c8-42a4-4d8a-baf6-7dcdf5dba348",
   "metadata": {},
   "outputs": [
    {
     "data": {
      "text/plain": [
       "{'key1': 'val1', 'samarth': 'inspiration'}"
      ]
     },
     "execution_count": 141,
     "metadata": {},
     "output_type": "execute_result"
    }
   ],
   "source": [
    "dict1 = {'key1':'val1','samarth':'inspiration'}\n",
    "dict1"
   ]
  },
  {
   "cell_type": "code",
   "execution_count": 153,
   "id": "81534e22-94a9-4dd8-9baa-56085d7e1529",
   "metadata": {},
   "outputs": [
    {
     "data": {
      "text/plain": [
       "3"
      ]
     },
     "execution_count": 153,
     "metadata": {},
     "output_type": "execute_result"
    }
   ],
   "source": [
    "dict2 = {'key1':[1,2,3],'key2':'val2'}\n",
    "dict2['key1'][2]"
   ]
  },
  {
   "cell_type": "code",
   "execution_count": 155,
   "id": "1160ca30-3102-42f6-ac30-d0ba03fbf1ba",
   "metadata": {},
   "outputs": [
    {
     "data": {
      "text/plain": [
       "'VAL2'"
      ]
     },
     "execution_count": 155,
     "metadata": {},
     "output_type": "execute_result"
    }
   ],
   "source": [
    "dict2['key2'].upper()"
   ]
  },
  {
   "cell_type": "code",
   "execution_count": 157,
   "id": "4a13ef35-fdf8-474f-ad8d-ba502f5a95ba",
   "metadata": {},
   "outputs": [
    {
     "data": {
      "text/plain": [
       "(1, 2, 3, 4, 5)"
      ]
     },
     "execution_count": 157,
     "metadata": {},
     "output_type": "execute_result"
    }
   ],
   "source": [
    "tuple1 = (1,2,3,4,5)\n",
    "tuple1"
   ]
  },
  {
   "cell_type": "code",
   "execution_count": 159,
   "id": "f4bab5b6-7a3c-4c30-a955-edc7c998b458",
   "metadata": {},
   "outputs": [
    {
     "ename": "TypeError",
     "evalue": "'tuple' object does not support item assignment",
     "output_type": "error",
     "traceback": [
      "\u001b[1;31m---------------------------------------------------------------------------\u001b[0m",
      "\u001b[1;31mTypeError\u001b[0m                                 Traceback (most recent call last)",
      "Cell \u001b[1;32mIn[159], line 1\u001b[0m\n\u001b[1;32m----> 1\u001b[0m tuple1[\u001b[38;5;241m1\u001b[39m]\u001b[38;5;241m=\u001b[39m\u001b[38;5;241m7\u001b[39m\n\u001b[0;32m      2\u001b[0m tuple1\n",
      "\u001b[1;31mTypeError\u001b[0m: 'tuple' object does not support item assignment"
     ]
    }
   ],
   "source": [
    "tuple1[1]=7\n",
    "tuple1"
   ]
  },
  {
   "cell_type": "code",
   "execution_count": 163,
   "id": "59e918a1-6279-42be-8b9d-449c9b217c38",
   "metadata": {},
   "outputs": [
    {
     "data": {
      "text/plain": [
       "5"
      ]
     },
     "execution_count": 163,
     "metadata": {},
     "output_type": "execute_result"
    }
   ],
   "source": [
    "len(tuple1)"
   ]
  },
  {
   "cell_type": "code",
   "execution_count": 165,
   "id": "4f080624-7bf9-4a00-bf66-b214dbb06c74",
   "metadata": {},
   "outputs": [
    {
     "data": {
      "text/plain": [
       "(3, 4, 5)"
      ]
     },
     "execution_count": 165,
     "metadata": {},
     "output_type": "execute_result"
    }
   ],
   "source": [
    "tuple1[2:]"
   ]
  },
  {
   "cell_type": "code",
   "execution_count": 175,
   "id": "76b4a066-a4d1-4b65-9cfe-397629be8a8b",
   "metadata": {},
   "outputs": [
    {
     "name": "stdout",
     "output_type": "stream",
     "text": [
      "5\n"
     ]
    }
   ],
   "source": [
    "print(tuple1[-1])"
   ]
  },
  {
   "cell_type": "code",
   "execution_count": 185,
   "id": "152f024a-d4cf-44fd-97d3-03b3683b92fb",
   "metadata": {},
   "outputs": [
    {
     "data": {
      "text/plain": [
       "{1, 2, 3, 4, 5}"
      ]
     },
     "execution_count": 185,
     "metadata": {},
     "output_type": "execute_result"
    }
   ],
   "source": [
    "set1 = {1,2,3,4,5,5,4,3}\n",
    "set1"
   ]
  },
  {
   "cell_type": "code",
   "execution_count": 187,
   "id": "89e88c59-c057-443e-8f15-134f08392a3c",
   "metadata": {},
   "outputs": [
    {
     "data": {
      "text/plain": [
       "list"
      ]
     },
     "execution_count": 187,
     "metadata": {},
     "output_type": "execute_result"
    }
   ],
   "source": [
    "type([])"
   ]
  },
  {
   "cell_type": "code",
   "execution_count": 189,
   "id": "0bb117e4-450e-430f-bbdb-b97119392ba8",
   "metadata": {},
   "outputs": [
    {
     "data": {
      "text/plain": [
       "dict"
      ]
     },
     "execution_count": 189,
     "metadata": {},
     "output_type": "execute_result"
    }
   ],
   "source": [
    "type({})"
   ]
  },
  {
   "cell_type": "code",
   "execution_count": 191,
   "id": "06f2d75f-3d9d-4e68-9b54-3f0f440f14f6",
   "metadata": {},
   "outputs": [
    {
     "data": {
      "text/plain": [
       "set"
      ]
     },
     "execution_count": 191,
     "metadata": {},
     "output_type": "execute_result"
    }
   ],
   "source": [
    "type({1})"
   ]
  },
  {
   "cell_type": "code",
   "execution_count": 193,
   "id": "bd0d4c8e-a898-47ec-9d70-d52c8891c113",
   "metadata": {},
   "outputs": [
    {
     "data": {
      "text/plain": [
       "tuple"
      ]
     },
     "execution_count": 193,
     "metadata": {},
     "output_type": "execute_result"
    }
   ],
   "source": [
    "type(())"
   ]
  },
  {
   "cell_type": "code",
   "execution_count": 199,
   "id": "9715acb5-5c34-43c9-8974-64d08bc3e516",
   "metadata": {},
   "outputs": [
    {
     "data": {
      "text/plain": [
       "tuple"
      ]
     },
     "execution_count": 199,
     "metadata": {},
     "output_type": "execute_result"
    }
   ],
   "source": [
    "t=(1,)\n",
    "type(t)"
   ]
  },
  {
   "cell_type": "code",
   "execution_count": 205,
   "id": "69177689-f59f-4f18-ac47-e5c8a000ab32",
   "metadata": {},
   "outputs": [
    {
     "name": "stdout",
     "output_type": "stream",
     "text": [
      "I'm If\n"
     ]
    }
   ],
   "source": [
    "if True:\n",
    "    print(\"I'm If\")\n",
    "elif True:\n",
    "    print(\"I'm Elif\")\n",
    "else:\n",
    "    print(\"I'm Else\")"
   ]
  },
  {
   "cell_type": "code",
   "execution_count": 17,
   "id": "b0ac6ea3-e7af-4f6c-a0b2-88e94d0a780e",
   "metadata": {},
   "outputs": [
    {
     "name": "stdout",
     "output_type": "stream",
     "text": [
      "A: 10211 is greater\n"
     ]
    }
   ],
   "source": [
    "a=10211\n",
    "b=202\n",
    "c=232\n",
    "if a > b and a > c:\n",
    "    print(\"A: {} is greater\" .format(a))\n",
    "elif b > a and b > c:\n",
    "    print(\"B: {} is greater\" .format(b))\n",
    "else:\n",
    "    print(\"C: {} is greater\" .format(c))"
   ]
  },
  {
   "cell_type": "code",
   "execution_count": 19,
   "id": "d778792e-a163-4e8d-a1c7-07783f2035b2",
   "metadata": {},
   "outputs": [
    {
     "name": "stdout",
     "output_type": "stream",
     "text": [
      "Total bill: 43600\n"
     ]
    }
   ],
   "source": [
    "unit=3550\n",
    "if unit < 200:\n",
    "    print(\"No Change\")\n",
    "elif unit > 200 and unit <= 500:\n",
    "    x=unit-200\n",
    "    bill=x*8\n",
    "    print(\"Total bill: {}\" .format(bill))\n",
    "elif unit > 500 and unit <= 1000:\n",
    "    x=unit-500\n",
    "    bill=x*11+(300*8)\n",
    "    print(\"Total bill: {}\" .format(bill))\n",
    "else:\n",
    "    x=unit-1000\n",
    "    bill=x*14+(500*11 + 300*8)\n",
    "    print(\"Total bill: {}\" .format(bill))"
   ]
  },
  {
   "cell_type": "code",
   "execution_count": 57,
   "id": "819f12d3-0e6e-40cd-833e-cab82dedb24a",
   "metadata": {},
   "outputs": [
    {
     "name": "stdout",
     "output_type": "stream",
     "text": [
      "985000.0\n"
     ]
    }
   ],
   "source": [
    "total=4500000\n",
    "savings=150000\n",
    "if savings >= 2000000:\n",
    "    total=total-2000000\n",
    "else:\n",
    "    total=total-savings\n",
    "\n",
    "if total > 0 and total <= 1000000:\n",
    "    tax = total * 0.1\n",
    "elif total > 1000000 and total <= 2200000:\n",
    "    x = total - 1000000\n",
    "    tax = x * 0.2 + 1000000 * 0.1\n",
    "else:\n",
    "    x = total - 2200000\n",
    "    tax = x * 0.3 + 1200000 * 0.2 + 1000000 * 0.1\n",
    "print(tax)\n"
   ]
  },
  {
   "cell_type": "code",
   "execution_count": 91,
   "id": "e3749095-c281-47b0-92c6-f9203a8aa437",
   "metadata": {},
   "outputs": [
    {
     "name": "stdout",
     "output_type": "stream",
     "text": [
      "1 2 3 4 5 6 7 8 9 10 "
     ]
    }
   ],
   "source": [
    "list1 = [1,2,3,4,5,6,7,8,9,10]\n",
    "for i in list1:\n",
    "    print(i,end=\" \")"
   ]
  },
  {
   "cell_type": "code",
   "execution_count": 93,
   "id": "cb22273a-5bfd-499e-a818-ae247dc5e9dc",
   "metadata": {},
   "outputs": [
    {
     "name": "stdout",
     "output_type": "stream",
     "text": [
      "Not Armstrong\n"
     ]
    }
   ],
   "source": [
    "# armstrong number\n",
    "a=123\n",
    "temp=a\n",
    "digits=len(str(a))\n",
    "sum=0\n",
    "for i in range(len(str(temp)),0,-1):\n",
    "    rem = temp % 10\n",
    "    temp //= 10\n",
    "    sum += rem**digits\n",
    "\n",
    "if sum == a:\n",
    "    print(\"Armstrong\")\n",
    "else:\n",
    "    print(\"Not Armstrong\")    "
   ]
  },
  {
   "cell_type": "code",
   "execution_count": 103,
   "id": "57cd978e-cb84-4e3b-ad0b-5106407163fa",
   "metadata": {},
   "outputs": [
    {
     "name": "stdout",
     "output_type": "stream",
     "text": [
      "Not Armstrong\n"
     ]
    }
   ],
   "source": [
    "# Armstrong number using while loop\n",
    "a=121\n",
    "temp=a\n",
    "digits=len(str(a))\n",
    "sum=0\n",
    "while temp != 0:\n",
    "    rem = temp % 10\n",
    "    temp //= 10\n",
    "    sum += rem**digits\n",
    "if sum == a:\n",
    "    print(\"Armstrong\")\n",
    "else:\n",
    "    print(\"Not Armstrong\")"
   ]
  },
  {
   "cell_type": "code",
   "execution_count": 8,
   "id": "ff31601e-c79d-44e0-97ab-c494fc0d002d",
   "metadata": {},
   "outputs": [
    {
     "name": "stdout",
     "output_type": "stream",
     "text": [
      "Armstrong\n",
      "Not Armstrong\n"
     ]
    }
   ],
   "source": [
    "# armstrong using function\n",
    "def findArmstrong(a):\n",
    "    temp=a\n",
    "    digits=len(str(a))\n",
    "    sum=0\n",
    "    while temp != 0:\n",
    "        rem = temp % 10\n",
    "        temp //= 10\n",
    "        sum += rem**digits\n",
    "    if sum == a:\n",
    "        print(\"Armstrong\")\n",
    "    else:\n",
    "        print(\"Not Armstrong\")\n",
    "findArmstrong(1634)\n",
    "findArmstrong(121)"
   ]
  },
  {
   "cell_type": "code",
   "execution_count": 11,
   "id": "f13c1baa-2c0e-4b03-b1ab-2f9c74b65575",
   "metadata": {},
   "outputs": [
    {
     "name": "stdout",
     "output_type": "stream",
     "text": [
      "Prime Number\n"
     ]
    }
   ],
   "source": [
    "# prime number\n",
    "num = 9\n",
    "for i in range(2,num):\n",
    "    if num % i == 0:\n",
    "        print(\"Not A Prime Number\")\n",
    "        break\n",
    "    else:\n",
    "        print(\"Prime Number\")\n",
    "        break"
   ]
  },
  {
   "cell_type": "code",
   "execution_count": 3,
   "id": "2a2f48da-df5a-4f13-9983-92e2de747fb8",
   "metadata": {},
   "outputs": [
    {
     "data": {
      "text/plain": [
       "True"
      ]
     },
     "execution_count": 3,
     "metadata": {},
     "output_type": "execute_result"
    }
   ],
   "source": [
    "def findIsPrime(num):\n",
    "    for i in range(2,num):\n",
    "        if num % i == 0:\n",
    "            return False\n",
    "            break\n",
    "        else:\n",
    "            return True\n",
    "            break\n",
    "\n",
    "findIsPrime(9)"
   ]
  },
  {
   "cell_type": "code",
   "execution_count": 5,
   "id": "a5f37827-e236-4999-b16c-6c2b1e6430fb",
   "metadata": {},
   "outputs": [
    {
     "name": "stdout",
     "output_type": "stream",
     "text": [
      "0 1 1 2 3 5 8 13 21 34 55 89 "
     ]
    }
   ],
   "source": [
    "# fibonacci number\n",
    "num=10\n",
    "a=0\n",
    "b=1\n",
    "print(a,end=\" \")\n",
    "print(b,end=\" \")\n",
    "for i in range(0,num):\n",
    "    c=a+b\n",
    "    print(c,end=\" \")\n",
    "    a=b\n",
    "    b=c"
   ]
  },
  {
   "cell_type": "code",
   "execution_count": 3,
   "id": "56355e79-ba44-4a24-815e-8a2933a529bf",
   "metadata": {},
   "outputs": [
    {
     "name": "stdout",
     "output_type": "stream",
     "text": [
      "0 1 1 2 3 5 8 13 21 34 55 89 144 "
     ]
    }
   ],
   "source": [
    "# fibonacci number using while loop\n",
    "num1=10\n",
    "a1=0\n",
    "b1=1\n",
    "print(a1,end=\" \")\n",
    "print(b1,end=\" \")\n",
    "counter1=0\n",
    "while counter1 <= num1:\n",
    "    c1 = a1 + b1\n",
    "    print(c1,end=\" \")\n",
    "    a1 = b1\n",
    "    b1 = c1\n",
    "    counter1+=1"
   ]
  },
  {
   "cell_type": "code",
   "execution_count": 12,
   "id": "4a3f1f6d-96a7-405b-8d4a-9f323836e88a",
   "metadata": {},
   "outputs": [
    {
     "name": "stdout",
     "output_type": "stream",
     "text": [
      "0 1 1 2 3 5 8 13 21 34 55 89 144 "
     ]
    }
   ],
   "source": [
    "def fiboFun(num1):\n",
    "    a1=0\n",
    "    b1=1\n",
    "    print(a1,end=\" \")\n",
    "    print(b1,end=\" \")\n",
    "    counter1=0\n",
    "    while counter1 <= num1:\n",
    "        c1 = a1 + b1\n",
    "        print(c1,end=\" \")\n",
    "        a1 = b1\n",
    "        b1 = c1\n",
    "        counter1+=1\n",
    "fiboFun(10)"
   ]
  },
  {
   "cell_type": "code",
   "execution_count": 57,
   "id": "12683abf-36de-4788-8904-d13f1a4fca3c",
   "metadata": {},
   "outputs": [
    {
     "name": "stdout",
     "output_type": "stream",
     "text": [
      "   * \n",
      "  * * \n",
      " * * * \n"
     ]
    }
   ],
   "source": [
    "# pyramid\n",
    "rows=4\n",
    "for i in range(1,rows):\n",
    "    for j in range(0,rows-i):\n",
    "        print(\" \",end=\"\")\n",
    "    for k in range(0,i):\n",
    "        print(\"* \",end=\"\")\n",
    "    print()"
   ]
  },
  {
   "cell_type": "code",
   "execution_count": 59,
   "id": "f5ca4b3f-ca4d-42c4-b986-f89794d45765",
   "metadata": {},
   "outputs": [
    {
     "name": "stdout",
     "output_type": "stream",
     "text": [
      "    * \n",
      "   * * \n",
      "  * * * \n",
      " * * * * \n"
     ]
    }
   ],
   "source": [
    "rows=4\n",
    "i=0\n",
    "while(i<rows):\n",
    "    j=0\n",
    "    while(j<rows-i):\n",
    "        print(\" \",end=\"\")\n",
    "        j+=1\n",
    "    k=0\n",
    "    while(k<=i):\n",
    "        print(\"* \",end=\"\")\n",
    "        k+=1\n",
    "    i+=1\n",
    "    print()"
   ]
  },
  {
   "cell_type": "code",
   "execution_count": 17,
   "id": "682a3d52-a502-4b13-bad7-193f3f7aff39",
   "metadata": {},
   "outputs": [
    {
     "name": "stdout",
     "output_type": "stream",
     "text": [
      "3 5 7 9 11 13 15 17 19 "
     ]
    }
   ],
   "source": [
    "# first n prime numbers\n",
    "n=10\n",
    "for i in range(2,n*2+1):\n",
    "    for j in range(2,i):\n",
    "        if i % j == 0:\n",
    "            break\n",
    "        else:\n",
    "            print(i,end=\" \")\n",
    "            break"
   ]
  },
  {
   "cell_type": "code",
   "execution_count": 143,
   "id": "3ef243de-54cc-4a06-a07c-05d74282c75b",
   "metadata": {},
   "outputs": [
    {
     "name": "stdout",
     "output_type": "stream",
     "text": [
      "Ascending Order:  [1, 2, 7, 8, 9]\n"
     ]
    }
   ],
   "source": [
    "# ascending order of list\n",
    "orgList = [2,1,9,8,7]\n",
    "for i in range(0,len(orgList)):\n",
    "    for j in range(0,len(orgList)):\n",
    "        if orgList[j] > orgList[i]:\n",
    "            orgList[i],orgList[j] = orgList[j],orgList[i]\n",
    "print(\"Ascending Order: \", orgList)"
   ]
  },
  {
   "cell_type": "code",
   "execution_count": 141,
   "id": "2c7c7450-0294-49b3-a76a-756f6f888c4f",
   "metadata": {},
   "outputs": [
    {
     "name": "stdout",
     "output_type": "stream",
     "text": [
      "Descending Order:  [9, 8, 7, 2, 1]\n"
     ]
    }
   ],
   "source": [
    "orgList = [2,1,9,8,7]\n",
    "for i in range(0,len(orgList)):\n",
    "    for j in range(len(orgList)):\n",
    "        if orgList[j] < orgList[i]:\n",
    "            orgList[i],orgList[j] = orgList[j],orgList[i]\n",
    "print(\"Descending Order: \", orgList)"
   ]
  },
  {
   "cell_type": "code",
   "execution_count": 31,
   "id": "78d569c4-3cd5-476a-85a4-91a1c9eab4b9",
   "metadata": {},
   "outputs": [
    {
     "name": "stdout",
     "output_type": "stream",
     "text": [
      "String Reverse:\n",
      "arthsaraham ,rupalos ,ygolonhcet fo eutitsni dnahclaw\n",
      "Even Index's Characters:\n",
      "w l h n   n t t e o   e h o o y   o a u , m h r s t a \n",
      "Odd Index's Characters:\n",
      "a c a d i s i u   f t c n l g , s l p r   a a a h r \n",
      "Split:\n",
      "['walchand', 'institue', 'of', 'technology,', 'solapur,', 'maharashtra']\n",
      "\n",
      "Vowels:\n",
      "a a i i u e o e o o o a u a a a a \n",
      "Total Vowels:  17\n",
      "w   1\n",
      "a   7\n",
      "l   3\n",
      "c   2\n",
      "h   4\n",
      "n   3\n",
      "d   1\n",
      "    5\n",
      "i   2\n",
      "s   3\n",
      "t   4\n",
      "u   2\n",
      "e   2\n",
      "o   4\n",
      "f   1\n",
      "g   1\n",
      "y   1\n",
      ",   2\n",
      "p   1\n",
      "r   3\n",
      "m   1\n",
      "{'w': 1, 'a': 7, 'l': 3, 'c': 2, 'h': 4, 'n': 3, 'd': 1, ' ': 5, 'i': 2, 's': 3, 't': 4, 'u': 2, 'e': 2, 'o': 4, 'f': 1, 'g': 1, 'y': 1, ',': 2, 'p': 1, 'r': 3, 'm': 1}\n"
     ]
    }
   ],
   "source": [
    "# string operations\n",
    "s = \"walchand institue of technology, solapur, maharashtra\"\n",
    "# reverse\n",
    "print(\"String Reverse:\")\n",
    "print(s[::-1])\n",
    "\n",
    "\n",
    "# even index's element\n",
    "print(\"Even Index's Characters:\")\n",
    "for i in range(0,len(s)):\n",
    "    if i % 2 == 0:\n",
    "        print(s[i],end=\" \")\n",
    "\n",
    "\n",
    "# odd index's element\n",
    "print(\"\\nOdd Index's Characters:\")\n",
    "for i in range(0,len(s)):\n",
    "    if i % 2 != 0:\n",
    "        print(s[i],end=\" \")\n",
    "\n",
    "\n",
    "# split\n",
    "print(\"\\nSplit:\")\n",
    "print(s.split())\n",
    "\n",
    "\n",
    "# find vowels\n",
    "print(\"\\nVowels:\")\n",
    "vowelSet={'a','A','e','E','i','I','o','O','u','U'}\n",
    "count=0\n",
    "for i in range(0,len(s)):\n",
    "    if s[i] in vowelSet:\n",
    "        count+=1\n",
    "        print(s[i],end=\" \")\n",
    "print(\"\\nTotal Vowels: \",count)\n",
    "\n",
    "\n",
    "# count number of individual character\n",
    "charDict={}\n",
    "for char in s:\n",
    "    if char in charDict:\n",
    "        charDict[char]+=1\n",
    "    else:\n",
    "        charDict[char]=1\n",
    "\n",
    "for char,count in charDict.items():\n",
    "    print(char,\" \", count)\n",
    "# char as a key\n",
    "print(charDict)"
   ]
  },
  {
   "cell_type": "code",
   "execution_count": 7,
   "id": "c4bbe4e5-a593-4cff-a754-0899cd4b2410",
   "metadata": {},
   "outputs": [
    {
     "data": {
      "text/plain": [
       "54"
      ]
     },
     "execution_count": 7,
     "metadata": {},
     "output_type": "execute_result"
    }
   ],
   "source": [
    "# implement length function\n",
    "def length(s):\n",
    "    count=0\n",
    "    for char in s:\n",
    "        count+=1\n",
    "    return count\n",
    "length(\"walchand institute of technology, solapur, maharashtra\")"
   ]
  },
  {
   "cell_type": "code",
   "execution_count": 85,
   "id": "6c34d864-f08d-4dd6-a1fc-bd70490b033a",
   "metadata": {},
   "outputs": [
    {
     "data": {
      "text/plain": [
       "'solapur'"
      ]
     },
     "execution_count": 85,
     "metadata": {},
     "output_type": "execute_result"
    }
   ],
   "source": [
    "# implement lower function\n",
    "def lowerFun(s):\n",
    "    dict2 = {'A':'a','B':'b','C':'c','D':'d','E':'e','F':'f','G':'g','H':'h','I':'i','J':'j','K':'k','L':'l','M':'m','N':'n','O':'o','P':'p','Q':'q','R':'r','S':'s','T':'t','U':'u','V':'v','W':'w','X':'x','Y':'y','Z':'z'}\n",
    "    result=\"\"\n",
    "    for char in s:\n",
    "        for key,value in dict2.items():\n",
    "            if char == key:\n",
    "                result += value\n",
    "    return result\n",
    "lowerFun(\"SOLAPUR\")"
   ]
  },
  {
   "cell_type": "code",
   "execution_count": 97,
   "id": "fd06ccd4-39b0-47eb-af25-b029f5a12dcf",
   "metadata": {},
   "outputs": [
    {
     "data": {
      "text/plain": [
       "'SOLAPUR'"
      ]
     },
     "execution_count": 97,
     "metadata": {},
     "output_type": "execute_result"
    }
   ],
   "source": [
    "# implement upper function\n",
    "def upperFun(s):\n",
    "    dict1 = {'a':'A','b':'B','c':'C','d':'D','e':'E','f':'F','g':'G','h':'H','i':'I','j':'J','k':'K','l':'L','m':'M','n':'N','o':'O','p':'P','q':'Q','r':'R','s':'S','t':'T','u':'U','v':'V','w':'W','x':'X','y':'Y','z':'Z'}\n",
    "    result=\"\"\n",
    "    for char in s:\n",
    "        for key,value in dict1.items():\n",
    "            if char == key:\n",
    "                result += value\n",
    "    return result\n",
    "upperFun(\"solapur\")"
   ]
  }
 ],
 "metadata": {
  "kernelspec": {
   "display_name": "Python [conda env:base] *",
   "language": "python",
   "name": "conda-base-py"
  },
  "language_info": {
   "codemirror_mode": {
    "name": "ipython",
    "version": 3
   },
   "file_extension": ".py",
   "mimetype": "text/x-python",
   "name": "python",
   "nbconvert_exporter": "python",
   "pygments_lexer": "ipython3",
   "version": "3.12.7"
  }
 },
 "nbformat": 4,
 "nbformat_minor": 5
}
