{
 "cells": [
  {
   "cell_type": "code",
   "execution_count": 39,
   "id": "33272ef5-75d5-4293-b091-0ea8ad48e92c",
   "metadata": {},
   "outputs": [
    {
     "name": "stdin",
     "output_type": "stream",
     "text": [
      "Enter a number: 2\n",
      "Enter a number: 2\n"
     ]
    },
    {
     "name": "stdout",
     "output_type": "stream",
     "text": [
      "1.Add\n",
      "2.Sub\n",
      "3.Mul\n",
      "4.Div\n",
      "Enter Your Choice: \n"
     ]
    },
    {
     "name": "stdin",
     "output_type": "stream",
     "text": [
      "Enter Operation 2\n"
     ]
    },
    {
     "name": "stdout",
     "output_type": "stream",
     "text": [
      "Result: 0\n"
     ]
    },
    {
     "name": "stdin",
     "output_type": "stream",
     "text": [
      "Enter a number: 2\n",
      "Enter a number: 2\n"
     ]
    },
    {
     "name": "stdout",
     "output_type": "stream",
     "text": [
      "1.Add\n",
      "2.Sub\n",
      "3.Mul\n",
      "4.Div\n",
      "Enter Your Choice: \n"
     ]
    },
    {
     "name": "stdin",
     "output_type": "stream",
     "text": [
      "Enter Operation 43\n"
     ]
    },
    {
     "name": "stdout",
     "output_type": "stream",
     "text": [
      "Invalid Operation\n"
     ]
    }
   ],
   "source": [
    "def operations(num1,num2,op):\n",
    "    if op == 1:\n",
    "        return (num1 + num2)\n",
    "    elif op == 2:\n",
    "        return (num1 - num2)\n",
    "    elif op == 3:\n",
    "        return (num1 * num2)\n",
    "    elif op == 4:\n",
    "        return (num1 / num2)\n",
    "    else:\n",
    "        print(\"Invalid Operation\")\n",
    "\n",
    "while True:\n",
    "    a=int(input(\"Enter a number:\"))\n",
    "    b=int(input(\"Enter a number:\"))\n",
    "    print(\"1.Add\\n2.Sub\\n3.Mul\\n4.Div\\nEnter Your Choice: \")\n",
    "    choice=int(input(\"Enter Operation\"))\n",
    "    result=operations(a,b,choice)\n",
    "    if result != None:\n",
    "        print(\"Result: {}\" .format(result))\n",
    "    else:\n",
    "        break"
   ]
  },
  {
   "cell_type": "code",
   "execution_count": 393,
   "id": "eec28716-0b5a-426a-9ee1-861add8f286e",
   "metadata": {},
   "outputs": [
    {
     "name": "stdout",
     "output_type": "stream",
     "text": [
      "Viresh\n"
     ]
    }
   ],
   "source": [
    "import random as rand\n",
    "list1=[\"Viresh\",\"Samarth\",\"Atharva\"]\n",
    "print(list1[rand.randint(0,len(list1)-1)])"
   ]
  },
  {
   "cell_type": "code",
   "execution_count": 29,
   "id": "0c66ffe4-ff08-43f5-b721-f0cc639df827",
   "metadata": {},
   "outputs": [
    {
     "name": "stdout",
     "output_type": "stream",
     "text": [
      "1.Play\n",
      "2.Break\n"
     ]
    },
    {
     "name": "stdin",
     "output_type": "stream",
     "text": [
      "Enter Your Choice: 1\n",
      "Enter a number: 2\n"
     ]
    },
    {
     "name": "stdout",
     "output_type": "stream",
     "text": [
      "Your guess is lower than secret number\n"
     ]
    },
    {
     "name": "stdin",
     "output_type": "stream",
     "text": [
      "Enter a number: 3\n"
     ]
    },
    {
     "name": "stdout",
     "output_type": "stream",
     "text": [
      "Your guess is lower than secret number\n"
     ]
    },
    {
     "name": "stdin",
     "output_type": "stream",
     "text": [
      "Enter a number: 5\n"
     ]
    },
    {
     "name": "stdout",
     "output_type": "stream",
     "text": [
      "Your guess is lower than secret number\n"
     ]
    },
    {
     "name": "stdin",
     "output_type": "stream",
     "text": [
      "Enter a number: 6\n"
     ]
    },
    {
     "name": "stdout",
     "output_type": "stream",
     "text": [
      "Congrats!\n"
     ]
    }
   ],
   "source": [
    "import random as rand\n",
    "chances=5\n",
    "secret = rand.randint(1,9)\n",
    "print(\"1.Play\\n2.Break\")\n",
    "choice=int(input(\"Enter Your Choice:\"))\n",
    "if choice == 1:\n",
    "        while True:  \n",
    "            num = int(input(\"Enter a number:\"))\n",
    "            if chances == 0:\n",
    "                print(\"You don't have enough chances..\")\n",
    "                break\n",
    "            if num == secret:\n",
    "                print(\"Congrats!\")\n",
    "                break\n",
    "            elif num < secret:\n",
    "                print(\"Your guess is lower than secret number\")\n",
    "                chances-=1\n",
    "            elif num > secret:\n",
    "                print(\"Your guess is higher than secret number\")\n",
    "                chances-=1"
   ]
  },
  {
   "cell_type": "code",
   "execution_count": 17,
   "id": "b132ede1-0f81-4421-9ded-9eb7a525fd68",
   "metadata": {},
   "outputs": [
    {
     "name": "stdout",
     "output_type": "stream",
     "text": [
      "[1, 2, 3, 4, 5, 'sambru']\n",
      "[1, 2, 3, 4, 5, 'sambru']\n",
      "No\n"
     ]
    }
   ],
   "source": [
    "list1 = [1,2,3,4,5]\n",
    "\n",
    "# shallow copy\n",
    "list2 = list1\n",
    "list2.append('sambru')\n",
    "print(list1)\n",
    "\n",
    "# deep copy\n",
    "list3=list1.copy()\n",
    "list3.append(10)\n",
    "print(list1)\n",
    "\n",
    "if list1 is list3:\n",
    "    print(\"Yes\")\n",
    "else:\n",
    "    print(\"No\")"
   ]
  },
  {
   "cell_type": "code",
   "execution_count": 75,
   "id": "09195ea6-cab3-4ded-beb4-ba7fc17211e1",
   "metadata": {},
   "outputs": [
    {
     "name": "stdout",
     "output_type": "stream",
     "text": [
      "False\n",
      "False\n",
      "Password is valid\n"
     ]
    }
   ],
   "source": [
    "str = \"123abc@\"\n",
    "print(str.isalpha())\n",
    "print(str.isalnum())\n",
    "\n",
    "# password checking\n",
    "def checkPassword(pwd):\n",
    "    if len(pwd) >= 8 and len(pwd) <= 15:\n",
    "        for c in pwd:\n",
    "            if c.isalpha():\n",
    "                continue\n",
    "            elif c.isdigit():\n",
    "                continue\n",
    "            elif not c.isalnum():\n",
    "                continue\n",
    "        print(\"Password is valid\")\n",
    "    else:\n",
    "        print(\"Password is invalid\")\n",
    "checkPassword(\"abcde@12\")"
   ]
  },
  {
   "cell_type": "code",
   "execution_count": 87,
   "id": "e019a945-7b07-451a-8561-6ead5a966ac0",
   "metadata": {},
   "outputs": [
    {
     "name": "stdin",
     "output_type": "stream",
     "text": [
      "Enter a number: 30\n"
     ]
    },
    {
     "name": "stdout",
     "output_type": "stream",
     "text": [
      "FizzBuzz\n"
     ]
    }
   ],
   "source": [
    "# Fizz Buzz\n",
    "num = int(input(\"Enter a number:\"))\n",
    "if num % 3 == 0:\n",
    "    print(\"Fizz\",end=\"\")\n",
    "if num % 5 == 0:\n",
    "    print(\"Buzz\")"
   ]
  },
  {
   "cell_type": "code",
   "execution_count": 7,
   "id": "fa798e4d-78a2-4852-a0ab-d79afd9e3a20",
   "metadata": {},
   "outputs": [
    {
     "name": "stdin",
     "output_type": "stream",
     "text": [
      "Enter the length of the password: 15\n"
     ]
    },
    {
     "name": "stdout",
     "output_type": "stream",
     "text": [
      "x5^5jj882f+*cvz\n"
     ]
    }
   ],
   "source": [
    "# random password generator\n",
    "import random as rand\n",
    "\n",
    "length = int(input(\"Enter the length of the password:\"))\n",
    "alphabets = \"abcdefghijklmnopqrstuvwxyz\"\n",
    "numbers = \"1234567890\"\n",
    "specials = \"!@#$%^&*()_+\"\n",
    "\n",
    "password = []\n",
    "password.append(alphabets[rand.randint(0, 25)])\n",
    "password.append(numbers[rand.randint(0, 9)])\n",
    "password.append(specials[rand.randint(0, 11)])\n",
    "\n",
    "while len(password) < length:\n",
    "    random_choice = rand.choice([alphabets, numbers, specials])\n",
    "    password.append(random_choice[rand.randint(0, len(random_choice) - 1)])\n",
    "\n",
    "print(\"\".join(password))"
   ]
  },
  {
   "cell_type": "code",
   "execution_count": 39,
   "id": "5bf92c43-52e6-4616-bb8c-8068e732f75f",
   "metadata": {},
   "outputs": [
    {
     "name": "stdin",
     "output_type": "stream",
     "text": [
      "Enter (rock, paper, or scissor):  paper\n"
     ]
    },
    {
     "name": "stdout",
     "output_type": "stream",
     "text": [
      "Computer chose rock. User Won!\n"
     ]
    }
   ],
   "source": [
    "# rock paper scissor\n",
    "import random as rand\n",
    "rps = [\"rock\", \"paper\", \"scissor\"]\n",
    "while True:\n",
    "    randomChoice = rps[rand.randint(0, 2)]\n",
    "    userChoice = input(\"Enter (rock, paper, or scissor): \").lower()\n",
    "    if userChoice == randomChoice:\n",
    "        print(\"It's a tie!\")\n",
    "    elif userChoice == \"rock\":\n",
    "        if randomChoice == \"paper\":\n",
    "            print(\"Computer chose paper. Computer Won!\")\n",
    "            break\n",
    "        elif randomChoice == \"scissors\":\n",
    "            print(\"Computer chose scissor. User Won!\")\n",
    "            break\n",
    "    elif userChoice == \"paper\":\n",
    "        if randomChoice == \"scissors\":\n",
    "            print(\"Computer chose scissor. Computer Won!\")\n",
    "            break\n",
    "        elif randomChoice == \"rock\":\n",
    "            print(\"Computer chose rock. User Won!\")\n",
    "            break\n",
    "    elif userChoice == \"scissors\":\n",
    "        if randomChoice == \"rock\":\n",
    "            print(\"Computer chose rock. Computer Won!\")\n",
    "            break\n",
    "        elif randomChoice == \"paper\":\n",
    "            print(\"Computer chose paper. User Won!\")\n",
    "            break"
   ]
  },
  {
   "cell_type": "code",
   "execution_count": 3,
   "id": "00a738d6-7f24-4c6b-a096-af0b73f1260b",
   "metadata": {},
   "outputs": [
    {
     "name": "stdin",
     "output_type": "stream",
     "text": [
      "Enter a value: 2\n"
     ]
    },
    {
     "name": "stdout",
     "output_type": "stream",
     "text": [
      "[1, 3, 4, 5, 5, 4, 3, 1]\n"
     ]
    }
   ],
   "source": [
    "# remove entered value from list\n",
    "list1 = [1,2,3,4,5,5,4,3,2,1]\n",
    "value = int(input(\"Enter a value:\"))\n",
    "for i in list1:\n",
    "    if i==value:\n",
    "        list1.remove(i)\n",
    "print(list1)"
   ]
  },
  {
   "cell_type": "code",
   "execution_count": 11,
   "id": "5a6b76db-75bc-4c8c-adcf-30249f771e67",
   "metadata": {},
   "outputs": [
    {
     "name": "stdout",
     "output_type": "stream",
     "text": [
      "{1, 2, 3, 4}\n"
     ]
    }
   ],
   "source": [
    "print(set([1,2,2,3,4]))"
   ]
  },
  {
   "cell_type": "code",
   "execution_count": 25,
   "id": "42b29b71-6612-4eea-8066-b6f33713054e",
   "metadata": {},
   "outputs": [
    {
     "name": "stdout",
     "output_type": "stream",
     "text": [
      "25\n"
     ]
    }
   ],
   "source": [
    "print((lambda x:x*x)(5))"
   ]
  },
  {
   "cell_type": "code",
   "execution_count": 27,
   "id": "402b435b-17d8-4d72-a359-5cebaefb901b",
   "metadata": {},
   "outputs": [
    {
     "name": "stdout",
     "output_type": "stream",
     "text": [
      "[4, 3, 2, 1, 0]\n"
     ]
    }
   ],
   "source": [
    "print([i for i in range(5)][::-1])"
   ]
  },
  {
   "cell_type": "code",
   "execution_count": 29,
   "id": "ca801b5a-a42a-476d-9273-c22e4916a943",
   "metadata": {},
   "outputs": [
    {
     "name": "stdout",
     "output_type": "stream",
     "text": [
      "False\n"
     ]
    }
   ],
   "source": [
    "print([] is False)"
   ]
  },
  {
   "cell_type": "code",
   "execution_count": 31,
   "id": "72bb60dc-df21-4312-a4c5-cd77e846da21",
   "metadata": {},
   "outputs": [
    {
     "name": "stdout",
     "output_type": "stream",
     "text": [
      "18\n"
     ]
    }
   ],
   "source": [
    "print(2*3**2)"
   ]
  },
  {
   "cell_type": "code",
   "execution_count": 37,
   "id": "515065a1-116e-4a21-8ebb-be0f2d5ffad8",
   "metadata": {},
   "outputs": [
    {
     "name": "stdout",
     "output_type": "stream",
     "text": [
      "18\n"
     ]
    }
   ],
   "source": [
    "var_2=18\n",
    "print(var2)"
   ]
  },
  {
   "cell_type": "code",
   "execution_count": 41,
   "id": "38702ab6-19b5-4778-bf1a-a35a6dd5d477",
   "metadata": {},
   "outputs": [
    {
     "name": "stdout",
     "output_type": "stream",
     "text": [
      "16\n"
     ]
    }
   ],
   "source": [
    "print(2 ** 4)"
   ]
  },
  {
   "cell_type": "code",
   "execution_count": 43,
   "id": "8f1e301a-6a21-4687-a342-bb818fd0361d",
   "metadata": {},
   "outputs": [
    {
     "name": "stdout",
     "output_type": "stream",
     "text": [
      "True\n"
     ]
    }
   ],
   "source": [
    "print(3==3.0)"
   ]
  },
  {
   "cell_type": "code",
   "execution_count": 45,
   "id": "98af4e13-00a2-4bda-87cc-486ab6293621",
   "metadata": {},
   "outputs": [
    {
     "name": "stdout",
     "output_type": "stream",
     "text": [
      "True\n"
     ]
    }
   ],
   "source": [
    "print(bool('False'))"
   ]
  },
  {
   "cell_type": "code",
   "execution_count": 47,
   "id": "d9194a5b-e8ec-4e1d-87aa-eef4ff97e241",
   "metadata": {},
   "outputs": [
    {
     "name": "stdout",
     "output_type": "stream",
     "text": [
      "3.3333333333333335\n"
     ]
    }
   ],
   "source": [
    "print(10/3)"
   ]
  }
 ],
 "metadata": {
  "kernelspec": {
   "display_name": "Python [conda env:base] *",
   "language": "python",
   "name": "conda-base-py"
  },
  "language_info": {
   "codemirror_mode": {
    "name": "ipython",
    "version": 3
   },
   "file_extension": ".py",
   "mimetype": "text/x-python",
   "name": "python",
   "nbconvert_exporter": "python",
   "pygments_lexer": "ipython3",
   "version": "3.12.7"
  }
 },
 "nbformat": 4,
 "nbformat_minor": 5
}
